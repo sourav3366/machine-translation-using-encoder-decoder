{
 "cells": [
  {
   "cell_type": "code",
   "execution_count": 1,
   "metadata": {
    "colab": {
     "base_uri": "https://localhost:8080/"
    },
    "id": "gku2UI7zfXDc",
    "outputId": "ebeaa1e5-26d2-4acb-d2c6-ec63a8721059"
   },
   "outputs": [
    {
     "name": "stdout",
     "output_type": "stream",
     "text": [
      "Archive:  ita-eng.zip\n",
      "  inflating: ita.txt                 \n",
      "  inflating: _about.txt              \n"
     ]
    }
   ],
   "source": [
    "!unzip ita-eng.zip"
   ]
  },
  {
   "cell_type": "code",
   "execution_count": 2,
   "metadata": {
    "id": "dit7EMxZiI0S"
   },
   "outputs": [],
   "source": [
    "import warnings\n",
    "warnings.filterwarnings(\"ignore\")\n",
    "import tensorflow as tf\n",
    "tf.compat.v1.enable_eager_execution()\n",
    "import os\n",
    "import re\n",
    "path=os.getcwd()+'/ita.txt'\n",
    "# To read the file\n",
    "import io\n",
    "import numpy as np\n",
    "# For normalizing data\n",
    "import unicodedata\n",
    "# Tensorflow libraries\n",
    "from tensorflow.keras.preprocessing.text import Tokenizer \n",
    "from tensorflow.keras.preprocessing.sequence import pad_sequences \n",
    "from tensorflow.keras.layers import Input, Softmax, RNN, Dense, Embedding, LSTM,TimeDistributed\n",
    "from tensorflow.keras.models import Model\n",
    "from tensorflow.keras import backend as K\n",
    "# Metric that can tell the strength of relation between two sentences\n",
    "import nltk.translate.bleu_score as bleu"
   ]
  },
  {
   "cell_type": "code",
   "execution_count": 3,
   "metadata": {
    "id": "GeI6Fu4yiPl4"
   },
   "outputs": [],
   "source": [
    "# Converting into unicode --http://stackoverflow.com/a/518232/2809427\n",
    "def unicode_to_ascii(s):\n",
    "    return ''.join(\n",
    "        c for c in unicodedata.normalize('NFD', s)\n",
    "        if unicodedata.category(c) != 'Mn')\n",
    "\n",
    "# Function to convert into lower case, remove punctuation.\n",
    "def normalize_string(s):\n",
    "    s = unicode_to_ascii(s.lower().strip())\n",
    "    s = re.sub(r'([!.?])', r' \\1', s)\n",
    "    s = re.sub(r'[^a-zA-Z.!?]+', r' ', s)\n",
    "    s = re.sub(r'\\s+', r' ', s)\n",
    "    return s"
   ]
  },
  {
   "cell_type": "code",
   "execution_count": 4,
   "metadata": {
    "id": "Y5byc6pioFxC"
   },
   "outputs": [],
   "source": [
    "# To open the file and read line by line\n",
    "\n",
    "lines=io.open('/content/ita.txt',encoding='UTF-8').read().split('\\n')"
   ]
  },
  {
   "cell_type": "code",
   "execution_count": 5,
   "metadata": {
    "colab": {
     "base_uri": "https://localhost:8080/",
     "height": 35
    },
    "id": "B7CzWYEoo44r",
    "outputId": "ced8994a-60f1-4ac3-9e82-6356121c75d8"
   },
   "outputs": [
    {
     "data": {
      "application/vnd.google.colaboratory.intrinsic+json": {
       "type": "string"
      },
      "text/plain": [
       "\"I'm so drunk.\\tSono così ubriaca.\\tCC-BY 2.0 (France) Attribution: tatoeba.org #3724445 (CM) & #3950183 (Guybrush88)\""
      ]
     },
     "execution_count": 5,
     "metadata": {},
     "output_type": "execute_result"
    }
   ],
   "source": [
    "lines[9010]"
   ]
  },
  {
   "cell_type": "code",
   "execution_count": 6,
   "metadata": {
    "id": "c3zyg_omo87n"
   },
   "outputs": [],
   "source": [
    "\n",
    "def makedata(num_examples):\n",
    "    '''\n",
    "      The function will return eng - Ita sentences pairs\n",
    "    '''\n",
    "    ita_data=[]\n",
    "    eng_data=[]\n",
    "    eng_in=[]\n",
    "    eng_out=[]\n",
    "    for i in range(num_examples):\n",
    "        \n",
    "        eng,ita,_=lines[i].split('\\t')\n",
    "        \n",
    "        # lines = I'm so drunk.\\tSono così ubriaca.\tCC-BY 2.0 (France) Attribution: tatoeba.org #3724445 (CM) & #3950183 (Guybrush88)\n",
    "        # eng = I'm so drunk.\n",
    "        # ita = Sono così ubriaca.\n",
    "\n",
    "        eng=normalize_string(eng)\n",
    "        ita=normalize_string(ita)\n",
    "\n",
    "        # For decoder input we will add start tag\n",
    "        eng_in_='<start> '+eng\n",
    "        # For decoder output we will add end tag\n",
    "        eng_out_= eng + ' <end>'\n",
    "        eng= '<start> ' +eng + ' <end>'\n",
    "        ita_data.append(ita)\n",
    "        eng_in.append(eng_in_)\n",
    "        eng_out.append(eng_out_)\n",
    "        eng_data.append(eng)\n",
    "    \n",
    "    return ita_data,eng_in,eng_out,eng_data"
   ]
  },
  {
   "cell_type": "code",
   "execution_count": 7,
   "metadata": {
    "colab": {
     "base_uri": "https://localhost:8080/"
    },
    "id": "6uyHXIEvpl6V",
    "outputId": "700c4084-5d0c-4277-a092-607b748a9afc"
   },
   "outputs": [
    {
     "data": {
      "text/plain": [
       "352041"
      ]
     },
     "execution_count": 7,
     "metadata": {},
     "output_type": "execute_result"
    }
   ],
   "source": [
    "len(lines)"
   ]
  },
  {
   "cell_type": "code",
   "execution_count": 8,
   "metadata": {
    "id": "M_XSMgnnpv4D"
   },
   "outputs": [],
   "source": [
    "num_examples=20000\n",
    "ita_data,eng_in,eng_out,eng_data=makedata(num_examples)"
   ]
  },
  {
   "cell_type": "code",
   "execution_count": 9,
   "metadata": {
    "colab": {
     "base_uri": "https://localhost:8080/"
    },
    "id": "KtMvv3c3pxXr",
    "outputId": "311e345b-e30b-44a8-e21d-6ee31f012443"
   },
   "outputs": [
    {
     "name": "stdout",
     "output_type": "stream",
     "text": [
      "Encoder  input: io sono un pacifista \n",
      "Decoder  input: <start> i m a pacifist \n",
      "Decoder output: i m a pacifist <end>\n"
     ]
    }
   ],
   "source": [
    "print('Encoder  input:',ita_data[-1][:-1])\n",
    "print('Decoder  input:',eng_in[-1][:-1])\n",
    "print('Decoder output:', eng_in[-1][8:-1]+'<end>')"
   ]
  },
  {
   "cell_type": "code",
   "execution_count": 10,
   "metadata": {
    "id": "YSEPPT9bp19d"
   },
   "outputs": [],
   "source": [
    "# Converting the text data to integer words\n",
    "\n",
    "# Declare a tokenizer\n",
    "# Fit the tokenizer on Italy language pairs\n",
    "# inp_lan will have an integer represented for each word\n",
    "# Pad sequences (By default it will pad zeros till the max length of the ita_data)\n",
    "# Here inp_lan is the encoder input data.\n",
    "\n",
    "ita_tokenizer=Tokenizer(filters='')\n",
    "ita_tokenizer.fit_on_texts(ita_data)\n",
    "inp_lan=ita_tokenizer.texts_to_sequences(ita_data)\n",
    "inp_lan=pad_sequences(inp_lan,padding='post')"
   ]
  },
  {
   "cell_type": "code",
   "execution_count": 11,
   "metadata": {
    "id": "SPN-fDtpr2BO"
   },
   "outputs": [],
   "source": [
    "# Declare the tokenizer for english words\n",
    "eng_tokenizer=Tokenizer(filters='')\n",
    "# we are fitting on eng_data not on eng_in or eng_out as it has both <start> and <end> tags\n",
    "eng_tokenizer.fit_on_texts(eng_data)\n",
    "\n",
    "# Decoder input data\n",
    "tar_lan_in=eng_tokenizer.texts_to_sequences(eng_in)\n",
    "tar_lan_in=pad_sequences(tar_lan_in,padding='post')\n",
    "\n",
    "# Decoder output data\n",
    "tar_lan_out=eng_tokenizer.texts_to_sequences(eng_out)\n",
    "tar_lan_out=pad_sequences(tar_lan_out,padding='post')\n"
   ]
  },
  {
   "cell_type": "code",
   "execution_count": 12,
   "metadata": {
    "colab": {
     "base_uri": "https://localhost:8080/"
    },
    "id": "j8dvj4m8rH7n",
    "outputId": "25c3638f-6960-4bdd-e604-7601ff115c6b"
   },
   "outputs": [
    {
     "name": "stdout",
     "output_type": "stream",
     "text": [
      "Encoder input Text data: sono cosi ubriaca .\n",
      "Integer representation:  [  2  52 291   1   0   0   0   0   0]\n",
      "----------------------------------------------------------------------\n",
      "Decoder input Text data: <start> i m so drunk .\n",
      "Integer representation:  [ 1  4  8 67 89  3  0]\n",
      "----------------------------------------------------------------------\n",
      "Decoder output Text data: i m so drunk . <end>\n",
      "Integer representation:  [ 4  8 67 89  3  2  0]\n"
     ]
    }
   ],
   "source": [
    "print('Encoder input Text data:',ita_data[9010])\n",
    "print('Integer representation: ',inp_lan[9010])\n",
    "print('-'*70)\n",
    "print('Decoder input Text data:',eng_in[9010])\n",
    "print('Integer representation: ',tar_lan_in[9010])\n",
    "print('-'*70)\n",
    "print('Decoder output Text data:',eng_out[9010])\n",
    "print('Integer representation: ',tar_lan_out[9010])\n"
   ]
  },
  {
   "cell_type": "code",
   "execution_count": 13,
   "metadata": {
    "colab": {
     "base_uri": "https://localhost:8080/"
    },
    "id": "vl7qTN4FsqqZ",
    "outputId": "584ced85-5500-46a5-c369-a0b0e167aee0"
   },
   "outputs": [
    {
     "name": "stdout",
     "output_type": "stream",
     "text": [
      "vocab size of italian words are: 5604\n",
      "vocab size of english words are: 2237\n"
     ]
    }
   ],
   "source": [
    "# Total number of unique words in Italian sentence \n",
    "ita_vocab_size=len(ita_tokenizer.word_index)+1\n",
    "print('vocab size of italian words are:',ita_vocab_size)\n",
    "# Total number of unique words in english sentence\n",
    "eng_vocab_size=len(eng_tokenizer.word_index)+1\n",
    "print('vocab size of english words are:',eng_vocab_size)"
   ]
  },
  {
   "cell_type": "code",
   "execution_count": 14,
   "metadata": {
    "id": "Hm_tvXLztXvg"
   },
   "outputs": [],
   "source": [
    "# Max length of input_sequence, max_length of target sequence \n",
    "inp_seq_length=inp_lan[0].shape[0]\n",
    "tar_seq_length=tar_lan_in[0].shape[0]\n",
    "\n",
    "#Now we will seperate the words and its index of english words\n",
    "eng_index_word={}\n",
    "eng_word_index={}\n",
    "for key,value in eng_tokenizer.word_index.items():\n",
    "  eng_index_word[value]=key \n",
    "  eng_word_index[key]=value"
   ]
  },
  {
   "cell_type": "code",
   "execution_count": 15,
   "metadata": {
    "colab": {
     "base_uri": "https://localhost:8080/"
    },
    "id": "n5N6wasRu7VF",
    "outputId": "a4e430de-af7b-4b59-bb76-a152c355b6b9"
   },
   "outputs": [
    {
     "name": "stdout",
     "output_type": "stream",
     "text": [
      "shape of input lang is         : (20000, 9)\n",
      "shape of target lang input is  : (20000, 7)\n",
      "shape of target lang output is : (20000, 7)\n"
     ]
    }
   ],
   "source": [
    "print('shape of input lang is         :',inp_lan.shape)\n",
    "print('shape of target lang input is  :',tar_lan_in.shape)\n",
    "print('shape of target lang output is :',tar_lan_out.shape)"
   ]
  },
  {
   "cell_type": "code",
   "execution_count": 16,
   "metadata": {
    "id": "1__aXFTvvz1E"
   },
   "outputs": [],
   "source": [
    "#Encoder input shape will be (Batch_size,inp_seq_length) --\n",
    "input_encoder=Input(shape=(inp_seq_length,))\n",
    "\n",
    "# Encoder LSTM needs the input to be 3 dim. One easy way to add a dimension to this integer sequences is to add a Embedding layer.\n",
    "\n",
    "# input_encoder is passed to the embedding layer.  \n",
    "encoder_embedding=Embedding(input_dim=ita_vocab_size,output_dim=128)(input_encoder)\n",
    "# encoder_embedding shape is (Batch_size,inp_seq_length,output_dim) --\n",
    "# Trainable paramters is ita_vocab_size * 128. \n",
    "# Each integer in the input_encoder is converted to 128 dimensional vector\n",
    "\n",
    "\n",
    "encoder_lstm=LSTM(256,return_state=True)(encoder_embedding)\n",
    "# Encoder_LSTM will return three arrays \n",
    "# 1. hidden_state/output of the last time step (None,256), \n",
    "# 2. hidden_state/ output of the last time step(None,256), \n",
    "# 2. cell_state of the last time step (None,256)\n"
   ]
  },
  {
   "cell_type": "code",
   "execution_count": 17,
   "metadata": {
    "id": "cUZ0cRaBUzlo"
   },
   "outputs": [],
   "source": [
    "encoder_states=encoder_lstm[1:]\n",
    "# Select the last two hidden states."
   ]
  },
  {
   "cell_type": "code",
   "execution_count": 18,
   "metadata": {
    "id": "UtOYCXePU2J0"
   },
   "outputs": [],
   "source": [
    "# Decoder input, we will keep the shape (None). Note: If none it can accept any size of data in dimension\n",
    "# The reason we are not fixing the input_decoder to max_length is during \n",
    "# inference we will be sending only one input at a time step and predict. \n",
    "\n",
    "input_decoder = Input(shape=(None,))\n",
    "# input_decoder shape is (None,None)\n",
    "\n",
    "decoder_embedding_layer=Embedding(input_dim=eng_vocab_size,output_dim=128)\n",
    "decoder_embedding_output=decoder_embedding_layer(input_decoder)\n",
    "# decoder_embedding_layer - (None,None,128) \n",
    "\n",
    "decoder_lstm=LSTM(256,return_sequences=True,return_state=True)\n",
    "decoder_output,_,_=decoder_lstm(decoder_embedding_output,initial_state=encoder_states)\n",
    "# decoder_lstm will return three outputs\n",
    "# 1. All the hiddenstate/output at each time step (None,None,256)\n",
    "# 2. hiddenstate/output at last time step (None,256)\n",
    "# 3. Cell state at last time step (None,256)\n"
   ]
  },
  {
   "cell_type": "code",
   "execution_count": 19,
   "metadata": {
    "id": "0JgraaskU3_d"
   },
   "outputs": [],
   "source": [
    "# Apply dense layer(units=eng_vocab_size) at every time step of the decoder_output\n",
    "decoder_dense=TimeDistributed( Dense(eng_vocab_size,activation='softmax'))\n",
    "dense_output= decoder_dense(decoder_output)\n",
    "# dense_output shape (None,none, eng_vocab_size)\n"
   ]
  },
  {
   "cell_type": "code",
   "execution_count": 20,
   "metadata": {
    "id": "4PSK07vTU55-"
   },
   "outputs": [],
   "source": [
    "# Our model has two inputs, one to the encoder and other to the decoder. \n",
    "# outputs - Dense layer output\n",
    "model=Model([input_encoder,input_decoder],dense_output)"
   ]
  },
  {
   "cell_type": "code",
   "execution_count": 21,
   "metadata": {
    "colab": {
     "base_uri": "https://localhost:8080/"
    },
    "id": "acmGCPesU7uJ",
    "outputId": "55f985c3-f8e9-40cf-97b4-afc8272fbd25"
   },
   "outputs": [
    {
     "name": "stdout",
     "output_type": "stream",
     "text": [
      "Model: \"model\"\n",
      "__________________________________________________________________________________________________\n",
      "Layer (type)                    Output Shape         Param #     Connected to                     \n",
      "==================================================================================================\n",
      "input_1 (InputLayer)            [(None, 9)]          0                                            \n",
      "__________________________________________________________________________________________________\n",
      "input_2 (InputLayer)            [(None, None)]       0                                            \n",
      "__________________________________________________________________________________________________\n",
      "embedding (Embedding)           (None, 9, 128)       717312      input_1[0][0]                    \n",
      "__________________________________________________________________________________________________\n",
      "embedding_1 (Embedding)         (None, None, 128)    286336      input_2[0][0]                    \n",
      "__________________________________________________________________________________________________\n",
      "lstm (LSTM)                     [(None, 256), (None, 394240      embedding[0][0]                  \n",
      "__________________________________________________________________________________________________\n",
      "lstm_1 (LSTM)                   [(None, None, 256),  394240      embedding_1[0][0]                \n",
      "                                                                 lstm[0][1]                       \n",
      "                                                                 lstm[0][2]                       \n",
      "__________________________________________________________________________________________________\n",
      "time_distributed (TimeDistribut (None, None, 2237)   574909      lstm_1[0][0]                     \n",
      "==================================================================================================\n",
      "Total params: 2,367,037\n",
      "Trainable params: 2,367,037\n",
      "Non-trainable params: 0\n",
      "__________________________________________________________________________________________________\n"
     ]
    }
   ],
   "source": [
    "model.summary()"
   ]
  },
  {
   "cell_type": "code",
   "execution_count": 22,
   "metadata": {
    "colab": {
     "base_uri": "https://localhost:8080/"
    },
    "id": "qIRS-Xf_U9gu",
    "outputId": "ff9a3ad9-adc9-4132-b270-6e0aaa0843b3"
   },
   "outputs": [
    {
     "name": "stdout",
     "output_type": "stream",
     "text": [
      "Epoch 1/20\n",
      "250/250 [==============================] - 14s 25ms/step - loss: 2.4484 - val_loss: 2.5315\n",
      "Epoch 2/20\n",
      "250/250 [==============================] - 5s 21ms/step - loss: 1.7574 - val_loss: 2.2504\n",
      "Epoch 3/20\n",
      "250/250 [==============================] - 5s 20ms/step - loss: 1.4697 - val_loss: 2.0899\n",
      "Epoch 4/20\n",
      "250/250 [==============================] - 5s 20ms/step - loss: 1.2962 - val_loss: 2.0077\n",
      "Epoch 5/20\n",
      "250/250 [==============================] - 5s 20ms/step - loss: 1.1682 - val_loss: 1.9864\n",
      "Epoch 6/20\n",
      "250/250 [==============================] - 5s 20ms/step - loss: 1.0705 - val_loss: 1.9508\n",
      "Epoch 7/20\n",
      "250/250 [==============================] - 5s 20ms/step - loss: 0.9827 - val_loss: 1.9563\n",
      "Epoch 8/20\n",
      "250/250 [==============================] - 5s 20ms/step - loss: 0.9085 - val_loss: 1.9252\n",
      "Epoch 9/20\n",
      "250/250 [==============================] - 5s 20ms/step - loss: 0.8467 - val_loss: 1.9470\n",
      "Epoch 10/20\n",
      "250/250 [==============================] - 5s 20ms/step - loss: 0.7901 - val_loss: 1.9465\n",
      "Epoch 11/20\n",
      "250/250 [==============================] - 5s 20ms/step - loss: 0.7367 - val_loss: 1.9635\n",
      "Epoch 12/20\n",
      "250/250 [==============================] - 5s 20ms/step - loss: 0.6904 - val_loss: 1.9804\n",
      "Epoch 13/20\n",
      "250/250 [==============================] - 5s 20ms/step - loss: 0.6462 - val_loss: 2.0106\n",
      "Epoch 14/20\n",
      "250/250 [==============================] - 5s 20ms/step - loss: 0.6074 - val_loss: 2.0220\n",
      "Epoch 15/20\n",
      "250/250 [==============================] - 5s 20ms/step - loss: 0.5682 - val_loss: 2.0305\n",
      "Epoch 16/20\n",
      "250/250 [==============================] - 5s 20ms/step - loss: 0.5344 - val_loss: 2.0511\n",
      "Epoch 17/20\n",
      "250/250 [==============================] - 5s 20ms/step - loss: 0.5004 - val_loss: 2.0787\n",
      "Epoch 18/20\n",
      "250/250 [==============================] - 5s 19ms/step - loss: 0.4701 - val_loss: 2.0836\n",
      "Epoch 19/20\n",
      "250/250 [==============================] - 5s 19ms/step - loss: 0.4419 - val_loss: 2.0930\n",
      "Epoch 20/20\n",
      "250/250 [==============================] - 5s 19ms/step - loss: 0.4167 - val_loss: 2.1294\n"
     ]
    },
    {
     "data": {
      "text/plain": [
       "<keras.callbacks.History at 0x7fd090164650>"
      ]
     },
     "execution_count": 22,
     "metadata": {},
     "output_type": "execute_result"
    }
   ],
   "source": [
    "# if input_decoder shape is (None,max_length)\n",
    "# Dense output shape is (None,max_length,eng_vocab_size), decoder_output (None,max_length)\n",
    "# Target data is just integers, while predicted data is a softmax output\n",
    "# we apply sparse_categorical_crossentropy instead of categorical_crossentropy\n",
    "model.compile(optimizer='rmsprop', loss='sparse_categorical_crossentropy')\n",
    "# Train the model\n",
    "model.fit([inp_lan, tar_lan_in], tar_lan_out,\n",
    "          batch_size=64,\n",
    "          epochs=20,\n",
    "          validation_split=0.2)"
   ]
  },
  {
   "cell_type": "code",
   "execution_count": 23,
   "metadata": {
    "colab": {
     "base_uri": "https://localhost:8080/",
     "height": 533
    },
    "id": "PinjlgV5VAuL",
    "outputId": "a467e1c8-6e40-48f0-faa8-ae3ae4f5cf6e"
   },
   "outputs": [
    {
     "data": {
      "image/png": "[encoded data removed]",
      "text/plain": [
       "<IPython.core.display.Image object>"
      ]
     },
     "execution_count": 23,
     "metadata": {},
     "output_type": "execute_result"
    }
   ],
   "source": [
    "tf.keras.utils.plot_model(model, to_file='model_plot.png', show_shapes=True, show_layer_names=True)"
   ]
  },
  {
   "cell_type": "code",
   "execution_count": 24,
   "metadata": {
    "id": "iCN1SrNDVJ_z"
   },
   "outputs": [],
   "source": [
    "#Encoder model for inference\n",
    "encoder_model=Model(input_encoder,encoder_lstm)\n",
    "# encoder_model takes a integer sequence of Italian language as input and returns hidden_state and cell_state"
   ]
  },
  {
   "cell_type": "code",
   "execution_count": 27,
   "metadata": {
    "colab": {
     "base_uri": "https://localhost:8080/",
     "height": 312
    },
    "id": "ltSlxhPDVpLJ",
    "outputId": "8a97176f-0ee1-472d-b8ab-c4e2d54c146f"
   },
   "outputs": [
    {
     "data": {
      "image/png": "[encoded data removed]",
      "text/plain": [
       "<IPython.core.display.Image object>"
      ]
     },
     "execution_count": 27,
     "metadata": {},
     "output_type": "execute_result"
    }
   ],
   "source": [
    "tf.keras.utils.plot_model(encoder_model, to_file='model_plot.png', show_shapes=True, show_layer_names=True)"
   ]
  },
  {
   "cell_type": "code",
   "execution_count": 25,
   "metadata": {
    "colab": {
     "base_uri": "https://localhost:8080/"
    },
    "id": "yxzWApH2VQ7e",
    "outputId": "a073a7ad-c421-4fbf-84c5-a4f451ff757d"
   },
   "outputs": [
    {
     "name": "stdout",
     "output_type": "stream",
     "text": [
      "tf.Tensor(\n",
      "[-0.02162567 -0.04781285 -0.00901964  0.00027226  0.00064205 -0.02776079\n",
      " -0.08027325  0.03244826  0.08223557  0.01386485], shape=(10,), dtype=float32)\n",
      "tf.Tensor(\n",
      "[-0.02162567 -0.04781285 -0.00901964  0.00027226  0.00064205 -0.02776079\n",
      " -0.08027325  0.03244826  0.08223557  0.01386485], shape=(10,), dtype=float32)\n"
     ]
    }
   ],
   "source": [
    "#encoder_model.summary(line_length=200)\n",
    "print(encoder_model.layers[1].weights[0][0][:10])\n",
    "print(model.layers[2].weights[0][0][:10])"
   ]
  },
  {
   "cell_type": "code",
   "execution_count": 28,
   "metadata": {
    "id": "W-2Y2hvtVmrF"
   },
   "outputs": [],
   "source": [
    "# Decoder states - shape is LSTM_Size\n",
    "decoder_state_h=Input(shape=(256))\n",
    "decoder_state_c=Input(shape=(256))\n",
    "decoder_state_inputs=[decoder_state_h,decoder_state_c]"
   ]
  },
  {
   "cell_type": "code",
   "execution_count": 29,
   "metadata": {
    "colab": {
     "base_uri": "https://localhost:8080/"
    },
    "id": "5vD1wBWXYMj8",
    "outputId": "c1b4202b-2fcc-46e0-ab1b-ea8f1a536607"
   },
   "outputs": [
    {
     "data": {
      "text/plain": [
       "TensorShape([None, None])"
      ]
     },
     "execution_count": 29,
     "metadata": {},
     "output_type": "execute_result"
    }
   ],
   "source": [
    "input_decoder.shape"
   ]
  },
  {
   "cell_type": "code",
   "execution_count": 30,
   "metadata": {
    "id": "6_G0p3U4YO23"
   },
   "outputs": [],
   "source": [
    "# Input to decoder is send to embedding layer\n",
    "decoder_embedding_output=decoder_embedding_layer(input_decoder)\n",
    "\n",
    "# Get the decoder outputs when a particular input and initial_state is given\n",
    "decoder_outputs,state_h,state_c=decoder_lstm(decoder_embedding_output,initial_state=decoder_state_inputs)\n",
    "decoder_states=[state_h,state_c]\n",
    "# Send the decoder outputs to the dense layer to get the predicted word\n",
    "decoder_outputs=decoder_dense(decoder_outputs)\n"
   ]
  },
  {
   "cell_type": "code",
   "execution_count": 31,
   "metadata": {
    "id": "G04KK5FzYZPg"
   },
   "outputs": [],
   "source": [
    "# decoder model takes two inputs 1. Decoder input 2. Decoder initial states\n",
    "# returns two outputs 1. Decoder outputs 2. decoder states(hidden_state and cell state)\n",
    "decoder_model=Model([input_decoder]+decoder_state_inputs,[decoder_outputs]+decoder_states)"
   ]
  },
  {
   "cell_type": "code",
   "execution_count": 32,
   "metadata": {
    "colab": {
     "base_uri": "https://localhost:8080/",
     "height": 422
    },
    "id": "3tUKEl5BYbxz",
    "outputId": "bd716ee2-874b-4356-a9bd-33fdaa1c5241"
   },
   "outputs": [
    {
     "data": {
      "image/png": "[encoded data removed]",
      "text/plain": [
       "<IPython.core.display.Image object>"
      ]
     },
     "execution_count": 32,
     "metadata": {},
     "output_type": "execute_result"
    }
   ],
   "source": [
    "tf.keras.utils.plot_model(decoder_model, to_file='model_plot.png', show_shapes=True, show_layer_names=True)"
   ]
  },
  {
   "cell_type": "code",
   "execution_count": 33,
   "metadata": {
    "colab": {
     "base_uri": "https://localhost:8080/"
    },
    "id": "J_W-eK2BYfrG",
    "outputId": "b2c5f6b4-dfe1-49c2-9c36-1984721d7098"
   },
   "outputs": [
    {
     "name": "stdout",
     "output_type": "stream",
     "text": [
      "Model: \"model_2\"\n",
      "__________________________________________________________________________________________________\n",
      "Layer (type)                    Output Shape         Param #     Connected to                     \n",
      "==================================================================================================\n",
      "input_2 (InputLayer)            [(None, None)]       0                                            \n",
      "__________________________________________________________________________________________________\n",
      "embedding_1 (Embedding)         (None, None, 128)    286336      input_2[0][0]                    \n",
      "__________________________________________________________________________________________________\n",
      "input_3 (InputLayer)            [(None, 256)]        0                                            \n",
      "__________________________________________________________________________________________________\n",
      "input_4 (InputLayer)            [(None, 256)]        0                                            \n",
      "__________________________________________________________________________________________________\n",
      "lstm_1 (LSTM)                   [(None, None, 256),  394240      embedding_1[1][0]                \n",
      "                                                                 input_3[0][0]                    \n",
      "                                                                 input_4[0][0]                    \n",
      "__________________________________________________________________________________________________\n",
      "time_distributed (TimeDistribut (None, None, 2237)   574909      lstm_1[1][0]                     \n",
      "==================================================================================================\n",
      "Total params: 1,255,485\n",
      "Trainable params: 1,255,485\n",
      "Non-trainable params: 0\n",
      "__________________________________________________________________________________________________\n"
     ]
    }
   ],
   "source": [
    "decoder_model.summary()"
   ]
  },
  {
   "cell_type": "code",
   "execution_count": 35,
   "metadata": {
    "id": "L1QyOFRrY5Gl"
   },
   "outputs": [],
   "source": [
    "def inference(seq):\n",
    "  '''\n",
    "    Function that takes Italian sequence and returns English sequence\n",
    "  '''\n",
    "  # Input the sequence to encoder_model and get the final timestep encoder_states(Hidden and cell state)\n",
    "  seq=seq.reshape(-1,9)\n",
    "  encoder_state_value=encoder_model.predict(seq)\n",
    "  encoder_state_value=encoder_state_value[1:]\n",
    "  # encoder_state_value[0] -- hidden_state -- shape (None,256)\n",
    "  # encoder_state_value[1] -- cell_state -- shape (None,256)\n",
    "\n",
    "  # Target word\n",
    "  target_word=np.zeros((1,1))\n",
    "  # <start>:1 , <end>:2 -- \n",
    "  target_word[0,0]=1\n",
    "  \n",
    "  stop_condition=False\n",
    "  sent=''\n",
    "  k=0\n",
    "  while not stop_condition:\n",
    "\n",
    "      # We are giving a target_word which represents <start> and encoder_states to the decoder_model\n",
    "      output,state_h,state_c=decoder_model.predict([target_word]+encoder_state_value)\n",
    "      # As the target word length is 1. We will only have one time step\n",
    "      encoder_state_value=[state_h,state_c]\n",
    "      # Output shape (1,eng_vocab_size). Find the word which the decoder predicted with max_probability\n",
    "      output=np.argmax(output,-1)\n",
    "      #print(output)\n",
    "      # The output is a integer sequence, to get back the word. We use our lookup table reverse_dict\n",
    "      sent=sent+' '+eng_index_word[int(output)]\n",
    "      k+=1\n",
    "      # If the max_length of the sequence is reached or the model predicted 2 (<end>) stop your model\n",
    "      if k>5 or output==2:\n",
    "        stop_condition=True\n",
    "      target_word=output.reshape(1,1)\n",
    "  \n",
    "  return sent"
   ]
  },
  {
   "cell_type": "code",
   "execution_count": 36,
   "metadata": {
    "colab": {
     "base_uri": "https://localhost:8080/"
    },
    "id": "CBHRtwa6Yj14",
    "outputId": "943b5841-1160-46a9-dc63-3a681568e598"
   },
   "outputs": [
    {
     "name": "stdout",
     "output_type": "stream",
     "text": [
      "+-------------------------+----------------------+-----------------------+\n",
      "|        Input data       |     Actual data      |     Predicted data    |\n",
      "+-------------------------+----------------------+-----------------------+\n",
      "|  tom si e accigliato .  | tom frowned . <end>  |   tom cursed . <end>  |\n",
      "|     non gongolare .     | don t gloat . <end>  |   don t yell . <end>  |\n",
      "|        e fredda .       |  it s cool . <end>   |    it s cool . <end>  |\n",
      "| sono impegnata adesso . | i m busy now . <end> |  i m busy now . <end> |\n",
      "| nessuno lo ha chiesto . | nobody asked . <end> |   no one ran . <end>  |\n",
      "|   io sono perfettina .  | i m finicky . <end>  |   i m finicky . <end> |\n",
      "|  vattene per piacere .  | please leave . <end> |  please leave . <end> |\n",
      "|  sorrida per piacere .  | please smile . <end> |  please smile . <end> |\n",
      "|       finiscila !       |  cut it out ! <end>  |   cut it out ! <end>  |\n",
      "|     l ha calciata .     | he kicked it . <end> |  he kicked it . <end> |\n",
      "+-------------------------+----------------------+-----------------------+\n"
     ]
    }
   ],
   "source": [
    "from prettytable import PrettyTable\n",
    "import random    \n",
    "x = PrettyTable()\n",
    "x.field_names = [\"Input data\", \"Actual data\", \"Predicted data\"]\n",
    "\n",
    "for i in range(10):\n",
    "  index=random.randint(1,10000)\n",
    "  pred=inference(inp_lan[index])\n",
    "  x.add_row([ita_data[index],eng_out[index],pred])\n",
    "  # print('Input data is: ',ita_data[index])\n",
    "  # print('Actual data is: ',eng_out[index])\n",
    "  # print('Predicted data is:',pred)\n",
    "print(x)"
   ]
  }
 ],
 "metadata": {
  "accelerator": "GPU",
  "colab": {
   "name": "italian_to_english_using_encoder-decoder.ipynb",
   "provenance": []
  },
  "kernelspec": {
   "display_name": "Python 3",
   "language": "python",
   "name": "python3"
  },
  "language_info": {
   "codemirror_mode": {
    "name": "ipython",
    "version": 3
   },
   "file_extension": ".py",
   "mimetype": "text/x-python",
   "name": "python",
   "nbconvert_exporter": "python",
   "pygments_lexer": "ipython3",
   "version": "3.7.6"
  }
 },
 "nbformat": 4,
 "nbformat_minor": 1
}
